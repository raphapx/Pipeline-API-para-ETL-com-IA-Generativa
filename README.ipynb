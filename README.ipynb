[Pipeline APi ETl](rpx-santanderdevweek2023.pdf)
